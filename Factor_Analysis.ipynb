{
  "nbformat": 4,
  "nbformat_minor": 0,
  "metadata": {
    "colab": {
      "private_outputs": true,
      "provenance": []
    },
    "kernelspec": {
      "name": "python3",
      "display_name": "Python 3"
    },
    "language_info": {
      "name": "python"
    }
  },
  "cells": [
    {
      "cell_type": "code",
      "source": [
        "! pip install factor-analyzer"
      ],
      "metadata": {
        "id": "b_29NW-lO7PM"
      },
      "execution_count": null,
      "outputs": []
    },
    {
      "cell_type": "code",
      "source": [
        "import pandas as pd\n",
        "import numpy as np\n",
        "import matplotlib.pyplot as plt\n",
        "import seaborn as sns"
      ],
      "metadata": {
        "id": "tquRzvYWPCCI"
      },
      "execution_count": null,
      "outputs": []
    },
    {
      "cell_type": "code",
      "source": [
        "import statsmodels.api as sm\n",
        "from statsmodels.genmod.generalized_linear_model import GLM\n",
        "from statsmodels.genmod import families\n",
        "import statsmodels.stats.outliers_influence as sms"
      ],
      "metadata": {
        "id": "FPx3dSCYncTM"
      },
      "execution_count": null,
      "outputs": []
    },
    {
      "cell_type": "code",
      "source": [
        "from sklearn.preprocessing import StandardScaler\n",
        "from sklearn.model_selection import train_test_split , KFold\n",
        "from sklearn.linear_model import LogisticRegression\n",
        "from sklearn.decomposition import PCA\n",
        "from sklearn.model_selection import cross_val_score\n",
        "from sklearn.preprocessing import LabelEncoder\n",
        "from sklearn.metrics import roc_auc_score\n",
        "from sklearn.metrics import roc_curve\n",
        "from sklearn.metrics import confusion_matrix"
      ],
      "metadata": {
        "id": "I6KiW9l1O8FU"
      },
      "execution_count": null,
      "outputs": []
    },
    {
      "cell_type": "code",
      "source": [
        "from factor_analyzer import calculate_bartlett_sphericity\n",
        "from factor_analyzer import calculate_kmo\n",
        "from factor_analyzer import FactorAnalyzer"
      ],
      "metadata": {
        "id": "yHWvazw-O_Un"
      },
      "execution_count": null,
      "outputs": []
    },
    {
      "cell_type": "code",
      "source": [
        "data_02 = pd.read_csv(\"https://raw.githubusercontent.com/UM1412/Data-Set/main/FactorAnalysisTrain.csv\")"
      ],
      "metadata": {
        "id": "iIJJ0aPJEn_H"
      },
      "execution_count": null,
      "outputs": []
    },
    {
      "cell_type": "markdown",
      "source": [
        "# Factor Analysis"
      ],
      "metadata": {
        "id": "PVpV-l3whlDJ"
      }
    },
    {
      "cell_type": "markdown",
      "source": [
        "Considering only columns including numbers rated on a Likert scale."
      ],
      "metadata": {
        "id": "CRQBvWrdSVyS"
      }
    },
    {
      "cell_type": "code",
      "source": [
        "data_01 = data_02.iloc[:, 8:22]"
      ],
      "metadata": {
        "id": "WJB8EXZwF2v0"
      },
      "execution_count": null,
      "outputs": []
    },
    {
      "cell_type": "code",
      "source": [
        "data_01.sample(10)"
      ],
      "metadata": {
        "id": "0ksd2pZjFwOX"
      },
      "execution_count": null,
      "outputs": []
    },
    {
      "cell_type": "markdown",
      "source": [
        "## Factorability"
      ],
      "metadata": {
        "id": "NxS1ydrnQ4Dp"
      }
    },
    {
      "cell_type": "markdown",
      "source": [
        "### 01)Bartlett's Test of Sphericity"
      ],
      "metadata": {
        "id": "ABx5dQlLvWsc"
      }
    },
    {
      "cell_type": "markdown",
      "source": [
        "**The two primary tests commonly used to assess the suitability of a dataset for Factor Analysis are Bartlett's Test of Sphericity and the Kaiser-Meyer-Olkin (KMO) Test.**"
      ],
      "metadata": {
        "id": "UEZNgo11Sj9g"
      }
    },
    {
      "cell_type": "markdown",
      "metadata": {
        "papermill": {
          "duration": 0.019271,
          "end_time": "2024-02-01T12:39:02.540252",
          "exception": false,
          "start_time": "2024-02-01T12:39:02.520981",
          "status": "completed"
        },
        "tags": [],
        "id": "28e7becc"
      },
      "source": [
        "Bartlett's Test of Sphericity is a tool used by researchers to determine the appropriateness of employing factor analysis to uncover the underlying structure within their data. By assessing the interrelatedness of variables through their correlation or covariance, the test assists in discerning whether these variables exhibit significant dependencies. If the test suggests that the variables are not independent, it provides support for conducting factor analysis to unveil latent factors within the dataset."
      ]
    },
    {
      "cell_type": "code",
      "execution_count": null,
      "metadata": {
        "execution": {
          "iopub.execute_input": "2024-02-01T12:39:02.771357Z",
          "iopub.status.busy": "2024-02-01T12:39:02.770159Z",
          "iopub.status.idle": "2024-02-01T12:39:02.824739Z",
          "shell.execute_reply": "2024-02-01T12:39:02.823545Z"
        },
        "papermill": {
          "duration": 0.078991,
          "end_time": "2024-02-01T12:39:02.827526",
          "exception": false,
          "start_time": "2024-02-01T12:39:02.748535",
          "status": "completed"
        },
        "tags": [],
        "id": "42c9f5a2"
      },
      "outputs": [],
      "source": [
        "chi_square, p_value = calculate_bartlett_sphericity(data_01)\n",
        "\n",
        "print(\"Chi-Square Statistic: \", chi_square)\n",
        "print(\"P-value: \", p_value)"
      ]
    },
    {
      "cell_type": "markdown",
      "metadata": {
        "papermill": {
          "duration": 0.020205,
          "end_time": "2024-02-01T12:39:02.868660",
          "exception": false,
          "start_time": "2024-02-01T12:39:02.848455",
          "status": "completed"
        },
        "tags": [],
        "id": "6ad39da1"
      },
      "source": [
        "**Interpretation**\n",
        "<br/>The P-value is lower than 0.05, which means that this dataset is suitable for the Factor Analysis!"
      ]
    },
    {
      "cell_type": "markdown",
      "metadata": {
        "papermill": {
          "duration": 0.019614,
          "end_time": "2024-02-01T12:39:02.908107",
          "exception": false,
          "start_time": "2024-02-01T12:39:02.888493",
          "status": "completed"
        },
        "tags": [],
        "id": "3904d8a9"
      },
      "source": [
        "### 02) KMO-test"
      ]
    },
    {
      "cell_type": "markdown",
      "metadata": {
        "papermill": {
          "duration": 0.019614,
          "end_time": "2024-02-01T12:39:02.947422",
          "exception": false,
          "start_time": "2024-02-01T12:39:02.927808",
          "status": "completed"
        },
        "tags": [],
        "id": "6a75d87b"
      },
      "source": [
        "The Kaiser-Meyer-Olkin (KMO) measure is a statistical tool employed to evaluate the suitability of a dataset for factor analysis. It assesses the extent to which variables in the dataset share common variance, which is crucial for factor analysis. The KMO measure quantifies the proportion of variance among variables that is shared, providing insight into whether the dataset meets the fundamental assumption of factor analysis."
      ]
    },
    {
      "cell_type": "code",
      "execution_count": null,
      "metadata": {
        "execution": {
          "iopub.execute_input": "2024-02-01T12:39:02.990622Z",
          "iopub.status.busy": "2024-02-01T12:39:02.989828Z",
          "iopub.status.idle": "2024-02-01T12:39:03.035884Z",
          "shell.execute_reply": "2024-02-01T12:39:03.034680Z"
        },
        "papermill": {
          "duration": 0.070327,
          "end_time": "2024-02-01T12:39:03.038368",
          "exception": false,
          "start_time": "2024-02-01T12:39:02.968041",
          "status": "completed"
        },
        "tags": [],
        "id": "f2ae3445"
      },
      "outputs": [],
      "source": [
        "kmo_all, kmo_model = calculate_kmo(data_01)\n",
        "\n",
        "print(\"KMO for All Variables:\", kmo_all)\n",
        "print(\"KMO for Model:\", kmo_model)"
      ]
    },
    {
      "cell_type": "markdown",
      "metadata": {
        "papermill": {
          "duration": 0.020174,
          "end_time": "2024-02-01T12:39:03.078354",
          "exception": false,
          "start_time": "2024-02-01T12:39:03.058180",
          "status": "completed"
        },
        "tags": [],
        "id": "62af6ff2"
      },
      "source": [
        "**Interpretation**\n",
        "<br/>The average Kaiser-Meyer-Olkin (KMO) measure for the variables exceeds 0.6, and each variable individually also has a KMO score above 0.6.\n",
        "<br/>Based on these results, I concluded that this dataset is appropriately suited for the Factor Analysis."
      ]
    },
    {
      "cell_type": "markdown",
      "source": [
        "## Standardization"
      ],
      "metadata": {
        "id": "VLX-5CuTTF9R"
      }
    },
    {
      "cell_type": "code",
      "source": [
        "scaler = StandardScaler()\n",
        "data_03 = scaler.fit_transform(data_01)"
      ],
      "metadata": {
        "id": "xlneLtyaGPQf"
      },
      "execution_count": null,
      "outputs": []
    },
    {
      "cell_type": "markdown",
      "source": [
        "## Principal Component Analaysis"
      ],
      "metadata": {
        "id": "z-B7n8e-TTbI"
      }
    },
    {
      "cell_type": "code",
      "source": [
        "PCA = PCA()\n",
        "PCA.fit(data_03)"
      ],
      "metadata": {
        "id": "YS4kjvG5TVDY"
      },
      "execution_count": null,
      "outputs": []
    },
    {
      "cell_type": "markdown",
      "source": [
        "##  Deciding Number of Factor"
      ],
      "metadata": {
        "id": "4AEhzzlJYQNR"
      }
    },
    {
      "cell_type": "markdown",
      "source": [
        "Decide on the number of principal components to retain. This decision can be based on the cumulative explained variance (usually aiming for a high cumulative variance, e.g., 65-90%) or by using criteria such as the Kaiser criterion (retain components with eigenvalues greater than 1) or scree plot inspection."
      ],
      "metadata": {
        "id": "5-jIQgyrZ0Cx"
      }
    },
    {
      "cell_type": "code",
      "source": [
        "result = pd.DataFrame({\n",
        "    \"Eigen\": PCA.explained_variance_,\n",
        "    \"Variance_ratio\":PCA.explained_variance_ratio_ * 100,\n",
        "    \"CumulativeVariance\": (PCA.explained_variance_ratio_ * 100).cumsum()\n",
        "})\n",
        "result.index = ['comp ' + str(i+1) for i in result.index]\n",
        "\n",
        "result"
      ],
      "metadata": {
        "id": "xN-yoFdCURo_"
      },
      "execution_count": null,
      "outputs": []
    },
    {
      "cell_type": "markdown",
      "source": [
        "**Interpretation**\n",
        "\n",
        "Since cumulative explained variance of Component 4 is greated than 65% we will extract 5 Components. Also Kaiser criterion Component 4 with eigenvalues greater than 1."
      ],
      "metadata": {
        "id": "usDUvYawW6EE"
      }
    },
    {
      "cell_type": "code",
      "source": [
        "a = PCA.explained_variance_\n",
        "num_components = len(a)\n",
        "plt.figure(figsize=(15,15))\n",
        "plt.plot(np.arange(1, 15), a, marker=\"*\", linestyle=\"-\")\n",
        "plt.title('Scree Plot')\n",
        "plt.xlabel('Principal Component Index')\n",
        "plt.ylabel('Eigenvalue')\n",
        "plt.ylabel('Eigenvalue')\n",
        "plt.grid(True)\n",
        "plt.show()"
      ],
      "metadata": {
        "id": "S6OqN1S4YeKQ"
      },
      "execution_count": null,
      "outputs": []
    },
    {
      "cell_type": "markdown",
      "source": [
        "Point at Component 4 shows elbow.Thus we can conclude Components before and incuding 4 capture most of the variance in the data, while components after the elbow capture less significant variance."
      ],
      "metadata": {
        "id": "HqPa5L4baYUY"
      }
    },
    {
      "cell_type": "markdown",
      "source": [
        "## Factor Analysis Type"
      ],
      "metadata": {
        "id": "uzZSbOs1bI7i"
      }
    },
    {
      "cell_type": "markdown",
      "source": [
        "### Rotation == None"
      ],
      "metadata": {
        "id": "hItpOUS7bWW4"
      }
    },
    {
      "cell_type": "code",
      "source": [
        "Factor_01 = FactorAnalyzer(n_factors=4, rotation=None)\n",
        "Factor_01.fit(data_03)"
      ],
      "metadata": {
        "id": "OmeiR4L5GWIh"
      },
      "execution_count": null,
      "outputs": []
    },
    {
      "cell_type": "code",
      "source": [
        "laoding_01 = pd.DataFrame(Factor_01.loadings_, index=data_01.columns, columns=[f'Factor{i+1}' for i in range(4)])\n",
        "laoding_01"
      ],
      "metadata": {
        "id": "rcF-Gmv-Gn9A"
      },
      "execution_count": null,
      "outputs": []
    },
    {
      "cell_type": "markdown",
      "source": [
        "### Rotation == Promax"
      ],
      "metadata": {
        "id": "KQH4nJH5cIDU"
      }
    },
    {
      "cell_type": "code",
      "source": [
        "Factor_02 = FactorAnalyzer(n_factors=4, rotation=\"promax\")\n",
        "Factor_02.fit(data_03)"
      ],
      "metadata": {
        "id": "Fcy8hIr8cIDV"
      },
      "execution_count": null,
      "outputs": []
    },
    {
      "cell_type": "code",
      "source": [
        "laoding_02 = pd.DataFrame(Factor_02.loadings_, index=data_01.columns, columns=[f'Factor{i+1}' for i in range(4)])\n",
        "laoding_02"
      ],
      "metadata": {
        "id": "EhnD-4MQcIDV"
      },
      "execution_count": null,
      "outputs": []
    },
    {
      "cell_type": "markdown",
      "source": [
        "### Rotation == Quartimax"
      ],
      "metadata": {
        "id": "mmGRr410cVCj"
      }
    },
    {
      "cell_type": "code",
      "source": [
        "Factor_03 = FactorAnalyzer(n_factors=4, rotation=\"quartimax\")\n",
        "Factor_03.fit(data_03)"
      ],
      "metadata": {
        "id": "0lEcMq-8cVCk"
      },
      "execution_count": null,
      "outputs": []
    },
    {
      "cell_type": "code",
      "source": [
        "laoding_03 = pd.DataFrame(Factor_03.loadings_, index=data_01.columns, columns=[f'Factor{i+1}' for i in range(4)])\n",
        "laoding_03"
      ],
      "metadata": {
        "id": "LzugELCxcVCk"
      },
      "execution_count": null,
      "outputs": []
    },
    {
      "cell_type": "markdown",
      "source": [
        "### Rotation == Varimax"
      ],
      "metadata": {
        "id": "ZVETFGSZck4B"
      }
    },
    {
      "cell_type": "code",
      "source": [
        "Factor_04 = FactorAnalyzer(n_factors=4, rotation=\"varimax\")\n",
        "Factor_04.fit(data_03)"
      ],
      "metadata": {
        "id": "HD76W-0Zck4C"
      },
      "execution_count": null,
      "outputs": []
    },
    {
      "cell_type": "code",
      "source": [
        "laoding = pd.DataFrame(Factor_04.loadings_, index=data_01.columns, columns=[f'Factor{i+1}' for i in range(4)])\n",
        "laoding"
      ],
      "metadata": {
        "id": "ScaJKAF7ck4C"
      },
      "execution_count": null,
      "outputs": []
    },
    {
      "cell_type": "markdown",
      "source": [
        "**Factor Making**\n",
        "\n",
        "\n",
        "In assigning names to each factor, we considered the three primary elements exhibiting the highest loading scores.\n",
        "\n",
        "Factor 1 is labeled \"Inflight Comfort & Quality\" due to its strong association with aspects enhancing the quality of time spent inside the aircraft.\n",
        "- Cleanliness (0.854)\n",
        "- Food and drink (0.77)\n",
        "- Inflight entertainment (0.766)\n",
        "\n",
        "Factor 2 is denoted as \"Customer Service Quality\" since it primarily encompasses components linked to the provision of high-quality service throughout the entire journey, from boarding to arrival.\n",
        "- Inflight service (0.799)\n",
        "- Baggage handling (0.76)\n",
        "- On-board service (0.7)\n",
        "\n",
        "Factor 3 is titled \"Convenience and Efficiency\" as it predominantly reflects elements aimed at optimizing time efficiency during the entire travel experience.\n",
        "- Ease of online booking (0.766)\n",
        "- Gate location (0.68)\n",
        "- Inflight Wi-Fi service (0.605)\n",
        "\n",
        "The fourth and final factor is named \"Technological Accessibility\" owing to its strong association with technological advancements facilitating convenient access to flight-related services.\n",
        "- Online boarding (0.7565)\n",
        "- Inflight Wi-Fi service (0.478)\n",
        "- Ease of online booking (0.463)"
      ],
      "metadata": {
        "id": "DwWeLLRGfo_q"
      }
    },
    {
      "cell_type": "code",
      "source": [
        "data_04 = Factor_04.transform(data_01)"
      ],
      "metadata": {
        "id": "2ZFG0S5tIPbX"
      },
      "execution_count": null,
      "outputs": []
    },
    {
      "cell_type": "code",
      "source": [
        "data_05 = pd.DataFrame()"
      ],
      "metadata": {
        "id": "cY-JnGA3LQIw"
      },
      "execution_count": null,
      "outputs": []
    },
    {
      "cell_type": "code",
      "source": [
        "data_05['Inflight Comfort and Quality'] = data_04[:, 0]\n",
        "data_05['Customer Service Quality'] = data_04[:, 1]\n",
        "data_05['Convenience and Efficiency'] = data_04[:, 2]\n",
        "data_05['Technological Accessibility'] = data_04[:, 3]"
      ],
      "metadata": {
        "id": "xV7uS4ayLDfv"
      },
      "execution_count": null,
      "outputs": []
    },
    {
      "cell_type": "code",
      "source": [
        "data_05"
      ],
      "metadata": {
        "id": "1ijxXATlfavA"
      },
      "execution_count": null,
      "outputs": []
    },
    {
      "cell_type": "code",
      "source": [
        "factor_loadings = {\n",
        "    \"Inflight Comfort & Quality\": {\"Cleanliness\": 0.854, \"Food and drink\": 0.77, \"Inflight entertainment\": 0.766},\n",
        "    \"Customer Service Quality\": {\"Inflight service\": 0.799, \"Baggage handling\": 0.76, \"On-board service\": 0.7},\n",
        "    \"Convenience and Efficiency\": {\"Ease of online booking\": 0.766, \"Gate location\": 0.68, \"Inflight wifi service\": 0.605},\n",
        "    \"Technological Accessibility\": {\"Online boarding\": 0.7565, \"Inflight wifi service\": 0.478, \"Ease of online booking\": 0.463}\n",
        "}\n",
        "factor_loadings_df = pd.DataFrame.from_dict(factor_loadings, orient='index')\n",
        "factor_loadings_df = factor_loadings_df.transpose()\n",
        "plt.figure(figsize=(10, 6))\n",
        "sns.heatmap(factor_loadings_df, annot=True, cmap=\"YlGnBu\", cbar=False)\n",
        "plt.title('Factor Loadings')\n",
        "plt.xlabel('Factors')\n",
        "plt.ylabel('Variables')\n",
        "plt.yticks(rotation=0)\n",
        "plt.tight_layout()\n",
        "plt.show()"
      ],
      "metadata": {
        "id": "lDoHFEZdg5tR"
      },
      "execution_count": null,
      "outputs": []
    },
    {
      "cell_type": "markdown",
      "source": [
        "# Logastics Regression"
      ],
      "metadata": {
        "id": "32yMQzZkhb4S"
      }
    },
    {
      "cell_type": "markdown",
      "source": [
        "### Label Encoding"
      ],
      "metadata": {
        "id": "Y3OWO-sGvlvk"
      }
    },
    {
      "cell_type": "code",
      "source": [
        "label_encoder = LabelEncoder()"
      ],
      "metadata": {
        "id": "Qaob6YZFvxKz"
      },
      "execution_count": null,
      "outputs": []
    },
    {
      "cell_type": "code",
      "source": [
        "data_05[\"Result\"] = label_encoder.fit_transform(data_02['satisfaction'])"
      ],
      "metadata": {
        "id": "lj9HFx_Wvxxb"
      },
      "execution_count": null,
      "outputs": []
    },
    {
      "cell_type": "code",
      "source": [
        "data_05.info()"
      ],
      "metadata": {
        "id": "3GnWrxrMwhwV"
      },
      "execution_count": null,
      "outputs": []
    },
    {
      "cell_type": "markdown",
      "source": [
        "### Appropriate outcome type"
      ],
      "metadata": {
        "id": "5eGdMP60k7BF"
      }
    },
    {
      "cell_type": "code",
      "source": [
        "print(data_02['satisfaction'].value_counts())"
      ],
      "metadata": {
        "id": "lo47RSfTjnlZ"
      },
      "execution_count": null,
      "outputs": []
    },
    {
      "cell_type": "code",
      "source": [
        "print(data_05[\"Result\"].value_counts())"
      ],
      "metadata": {
        "id": "1JLVj0ASwt9r"
      },
      "execution_count": null,
      "outputs": []
    },
    {
      "cell_type": "markdown",
      "source": [
        "**Interpretation**\n",
        "\n",
        "There are only two outcomes (i.e. binary classification of \"neutral or dissatisfied\" or did \"satisfied\"), so we will be using Binary Logistic Regression (which is the default method we use when we specify family=Binomial in our logit models earlier)\n"
      ],
      "metadata": {
        "id": "Y5n6iSAFkmbB"
      }
    },
    {
      "cell_type": "markdown",
      "source": [
        "### Multicollinearity"
      ],
      "metadata": {
        "id": "yTJGr6SrlEpR"
      }
    },
    {
      "cell_type": "code",
      "source": [
        "def calc_vif(df):\n",
        "    vif = pd.DataFrame()\n",
        "    vif[\"variables\"] = df.columns\n",
        "    vif[\"VIF\"] = [sms.variance_inflation_factor(df.values, i) for i in range(df.shape[1])]\n",
        "    return vif\n",
        "\n",
        "calc_vif(data_05[['Inflight Comfort and Quality', 'Customer Service Quality','Convenience and Efficiency', 'Technological Accessibility']])"
      ],
      "metadata": {
        "id": "xnMAhnu0ljE5"
      },
      "execution_count": null,
      "outputs": []
    },
    {
      "cell_type": "markdown",
      "source": [
        "**Decision Rule**\n",
        "\n",
        "The threshold for VIF is usually 5 (i.e. values above 5 means there is presence of multicollinearity)\n",
        "\n",
        "(Since all the variables have VIF < 5, it means that there is no multicollinearity, and this assumption is satisfied)"
      ],
      "metadata": {
        "id": "WMzLZ23GmY9s"
      }
    },
    {
      "cell_type": "code",
      "source": [
        "Y = data_05[\"Result\"]\n",
        "X = data_05[['Inflight Comfort and Quality', 'Customer Service Quality','Convenience and Efficiency', 'Technological Accessibility']]"
      ],
      "metadata": {
        "id": "K32lUEh0MwQJ"
      },
      "execution_count": null,
      "outputs": []
    },
    {
      "cell_type": "code",
      "source": [
        "X_train, X_test, Y_train, Y_test = train_test_split(X, Y, test_size=0.2, random_state=42)"
      ],
      "metadata": {
        "id": "krHXfVK2NwVI"
      },
      "execution_count": null,
      "outputs": []
    },
    {
      "cell_type": "code",
      "source": [
        "logreg = LogisticRegression()\n",
        "logreg.fit(X_train, Y_train)"
      ],
      "metadata": {
        "id": "y170DXz-RXk3"
      },
      "execution_count": null,
      "outputs": []
    },
    {
      "cell_type": "code",
      "source": [
        "Y_pred = logreg.predict(X_test)"
      ],
      "metadata": {
        "id": "GVo_Tk9rOEjl"
      },
      "execution_count": null,
      "outputs": []
    },
    {
      "cell_type": "code",
      "source": [
        "Y_test"
      ],
      "metadata": {
        "id": "IR0YijkuOIl1"
      },
      "execution_count": null,
      "outputs": []
    },
    {
      "cell_type": "code",
      "source": [
        "print('Accuracy of logistic regression classifier on test set: {:.2f}'.format(logreg.score(X_test, Y_test)))"
      ],
      "metadata": {
        "id": "t_yhpwpwONyt"
      },
      "execution_count": null,
      "outputs": []
    },
    {
      "cell_type": "code",
      "source": [
        "confusion_matrix = confusion_matrix(Y_test, Y_test)\n",
        "print(confusion_matrix)"
      ],
      "metadata": {
        "id": "Zo0_KOOHuVAG"
      },
      "execution_count": null,
      "outputs": []
    },
    {
      "cell_type": "code",
      "source": [
        "logit_roc_auc = roc_auc_score(Y_test, logreg.predict(X_test))\n",
        "fpr, tpr, thresholds = roc_curve(Y_test, logreg.predict_proba(X_test)[:,1])\n",
        "plt.figure()\n",
        "plt.plot(fpr, tpr, label='Logistic Regression (area = %0.2f)' % logit_roc_auc)\n",
        "plt.plot([0, 1], [0, 1],'r--')\n",
        "plt.xlim([0.0, 1.0])\n",
        "plt.ylim([0.0, 1.05])\n",
        "plt.xlabel('False Positive Rate')\n",
        "plt.ylabel('True Positive Rate')\n",
        "plt.title('Receiver operating characteristic')\n",
        "plt.legend(loc=\"lower right\")\n",
        "plt.savefig('Log_ROC')\n",
        "plt.show()"
      ],
      "metadata": {
        "id": "9hm_7wAKu3cs"
      },
      "execution_count": null,
      "outputs": []
    },
    {
      "cell_type": "code",
      "source": [
        "print(\"The End\")"
      ],
      "metadata": {
        "id": "mVlwNbaVxT5q"
      },
      "execution_count": null,
      "outputs": []
    }
  ]
}